{
 "cells": [
  {
   "cell_type": "code",
   "execution_count": 25,
   "metadata": {
    "collapsed": true
   },
   "outputs": [],
   "source": [
    "import csv\n",
    "import os\n",
    "\n",
    "from collections import defaultdict\n",
    "\n",
    "import pandas as pd\n",
    "from tqdm.auto import tqdm\n",
    "import jsonlines"
   ]
  },
  {
   "cell_type": "code",
   "execution_count": 2,
   "outputs": [
    {
     "data": {
      "text/plain": "'/home/lsawaniewski/Documents/private/projects/American-Express-Kaggle'"
     },
     "execution_count": 2,
     "metadata": {},
     "output_type": "execute_result"
    }
   ],
   "source": [
    "os.chdir(\"..\")\n",
    "os.getcwd()"
   ],
   "metadata": {
    "collapsed": false,
    "pycharm": {
     "name": "#%%\n"
    }
   }
  },
  {
   "cell_type": "code",
   "execution_count": 5,
   "outputs": [
    {
     "data": {
      "text/plain": "0it [00:00, ?it/s]",
      "application/vnd.jupyter.widget-view+json": {
       "version_major": 2,
       "version_minor": 0,
       "model_id": "10e213b0d2e84c599be946a1630e88ad"
      }
     },
     "metadata": {},
     "output_type": "display_data"
    }
   ],
   "source": [
    "from tqdm.auto import tqdm\n",
    "\n",
    "in_file_path = \"data/train_data.csv\"\n",
    "out_file_path = \"data/sample_10k_train_data.csv\"\n",
    "\n",
    "n_lines = 10_000\n",
    "\n",
    "with open(in_file_path) as in_file, open(out_file_path, \"w\") as out_file_path:\n",
    "    for line in tqdm(in_file):\n",
    "        out_file_path.write(line)\n",
    "        n_lines -= 1\n",
    "        if n_lines < 1:\n",
    "            break"
   ],
   "metadata": {
    "collapsed": false,
    "pycharm": {
     "name": "#%%\n"
    }
   }
  },
  {
   "cell_type": "code",
   "execution_count": 26,
   "outputs": [
    {
     "data": {
      "text/plain": "0it [00:00, ?it/s]",
      "application/vnd.jupyter.widget-view+json": {
       "version_major": 2,
       "version_minor": 0,
       "model_id": "16bc9b7429d14671a961120f0f460828"
      }
     },
     "metadata": {},
     "output_type": "display_data"
    }
   ],
   "source": [
    "os.makedirs(\"data/customers\", exist_ok=True)\n",
    "\n",
    "train_csv = \"data/sample_10k_train_data.csv\"\n",
    "\n",
    "with open(train_csv) as csvfile:\n",
    "    for row in tqdm(csv.DictReader(csvfile)):\n",
    "        customer_id = row[\"customer_ID\"]\n",
    "        customer_file = \"data/customers/\" + customer_id + \".jsonl\"\n",
    "\n",
    "        with jsonlines.open(customer_file, \"a\") as out_file:\n",
    "            out_file.write(row)\n"
   ],
   "metadata": {
    "collapsed": false,
    "pycharm": {
     "name": "#%%\n"
    }
   }
  },
  {
   "cell_type": "code",
   "execution_count": 34,
   "outputs": [
    {
     "data": {
      "text/plain": "  0%|          | 0/826 [00:00<?, ?it/s]",
      "application/vnd.jupyter.widget-view+json": {
       "version_major": 2,
       "version_minor": 0,
       "model_id": "dedb307e42a347459628a0ff1ab4d01b"
      }
     },
     "metadata": {},
     "output_type": "display_data"
    },
    {
     "data": {
      "text/plain": "                                                           S_2  \\\ncustomer_ID                                                      \n007665af389a671677413ae879122be275b722b68b31509...  2018-03-18   \n005c61318923d2addeca91abee3fdf081bae6eeecd36392...  2018-03-21   \n00299f4c6497510127af0f53cc0b363a9021ee71a9aa708...  2018-03-20   \n0016f5abba737a65efb60e50c9088ea2ae3f5d157f0c003...  2018-03-08   \n00039533fe0b61bcf1ec0d1aefe6acb5469ea0f0d1b0ad5...  2018-03-25   \n\n                                                                    P_2  \\\ncustomer_ID                                                               \n007665af389a671677413ae879122be275b722b68b31509...  -0.0931360288502379   \n005c61318923d2addeca91abee3fdf081bae6eeecd36392...    0.986611120021844   \n00299f4c6497510127af0f53cc0b363a9021ee71a9aa708...   0.8788295513094944   \n0016f5abba737a65efb60e50c9088ea2ae3f5d157f0c003...   0.8901501190764599   \n00039533fe0b61bcf1ec0d1aefe6acb5469ea0f0d1b0ad5...    0.234921911857499   \n\n                                                                      D_39  \\\ncustomer_ID                                                                  \n007665af389a671677413ae879122be275b722b68b31509...      0.0096559635642339   \n005c61318923d2addeca91abee3fdf081bae6eeecd36392...      0.0020260243002264   \n00299f4c6497510127af0f53cc0b363a9021ee71a9aa708...      0.0042480849911047   \n0016f5abba737a65efb60e50c9088ea2ae3f5d157f0c003...  0.00033120353719177654   \n00039533fe0b61bcf1ec0d1aefe6acb5469ea0f0d1b0ad5...      0.0938749274351392   \n\n                                                                   B_1  \\\ncustomer_ID                                                              \n007665af389a671677413ae879122be275b722b68b31509...  0.2219300965099985   \n005c61318923d2addeca91abee3fdf081bae6eeecd36392...  0.0199641348431316   \n00299f4c6497510127af0f53cc0b363a9021ee71a9aa708...  0.0015438619927072   \n0016f5abba737a65efb60e50c9088ea2ae3f5d157f0c003...  0.0318246305038781   \n00039533fe0b61bcf1ec0d1aefe6acb5469ea0f0d1b0ad5...  0.6074501062656786   \n\n                                                                   B_2  \\\ncustomer_ID                                                              \n007665af389a671677413ae879122be275b722b68b31509...  0.0095725512627982   \n005c61318923d2addeca91abee3fdf081bae6eeecd36392...  0.9923299450422156   \n00299f4c6497510127af0f53cc0b363a9021ee71a9aa708...  0.8160318800319813   \n0016f5abba737a65efb60e50c9088ea2ae3f5d157f0c003...   1.007433977239875   \n00039533fe0b61bcf1ec0d1aefe6acb5469ea0f0d1b0ad5...  0.0331138953308008   \n\n                                                                   R_1  \\\ncustomer_ID                                                              \n007665af389a671677413ae879122be275b722b68b31509...  0.5082696198042597   \n005c61318923d2addeca91abee3fdf081bae6eeecd36392...  0.0094847014394011   \n00299f4c6497510127af0f53cc0b363a9021ee71a9aa708...  0.0034079581522946   \n0016f5abba737a65efb60e50c9088ea2ae3f5d157f0c003...  0.0075870772063152   \n00039533fe0b61bcf1ec0d1aefe6acb5469ea0f0d1b0ad5...  0.5022181761666668   \n\n                                                                   S_3  \\\ncustomer_ID                                                              \n007665af389a671677413ae879122be275b722b68b31509...  0.3391963993383449   \n005c61318923d2addeca91abee3fdf081bae6eeecd36392...  0.2865961061124253   \n00299f4c6497510127af0f53cc0b363a9021ee71a9aa708...                       \n0016f5abba737a65efb60e50c9088ea2ae3f5d157f0c003...   0.088745111479866   \n00039533fe0b61bcf1ec0d1aefe6acb5469ea0f0d1b0ad5...  0.1800582882257861   \n\n                                                                      D_41  \\\ncustomer_ID                                                                  \n007665af389a671677413ae879122be275b722b68b31509...      0.5848254108786495   \n005c61318923d2addeca91abee3fdf081bae6eeecd36392...      0.0712478349663038   \n00299f4c6497510127af0f53cc0b363a9021ee71a9aa708...  0.00037508957383798445   \n0016f5abba737a65efb60e50c9088ea2ae3f5d157f0c003...      0.0012646079446888   \n00039533fe0b61bcf1ec0d1aefe6acb5469ea0f0d1b0ad5...      0.0047127706558927   \n\n                                                                   B_3 D_42  \\\ncustomer_ID                                                                   \n007665af389a671677413ae879122be275b722b68b31509...  0.5164489985106563        \n005c61318923d2addeca91abee3fdf081bae6eeecd36392...  0.0023183828881911        \n00299f4c6497510127af0f53cc0b363a9021ee71a9aa708...  0.0036707384947362        \n0016f5abba737a65efb60e50c9088ea2ae3f5d157f0c003...  0.0109866874970934        \n00039533fe0b61bcf1ec0d1aefe6acb5469ea0f0d1b0ad5...  0.7162907958226181        \n\n                                                    ... D_136 D_137 D_138  \\\ncustomer_ID                                         ...                     \n007665af389a671677413ae879122be275b722b68b31509...  ...                     \n005c61318923d2addeca91abee3fdf081bae6eeecd36392...  ...                     \n00299f4c6497510127af0f53cc0b363a9021ee71a9aa708...  ...                     \n0016f5abba737a65efb60e50c9088ea2ae3f5d157f0c003...  ...                     \n00039533fe0b61bcf1ec0d1aefe6acb5469ea0f0d1b0ad5...  ...                     \n\n                                                                 D_139  \\\ncustomer_ID                                                              \n007665af389a671677413ae879122be275b722b68b31509...  0.0037031354185205   \n005c61318923d2addeca91abee3fdf081bae6eeecd36392...   0.004787786702245   \n00299f4c6497510127af0f53cc0b363a9021ee71a9aa708...  0.0070457126652679   \n0016f5abba737a65efb60e50c9088ea2ae3f5d157f0c003...  0.0084613350156782   \n00039533fe0b61bcf1ec0d1aefe6acb5469ea0f0d1b0ad5...   0.008664205660965   \n\n                                                                 D_140  \\\ncustomer_ID                                                              \n007665af389a671677413ae879122be275b722b68b31509...  0.0070985912240648   \n005c61318923d2addeca91abee3fdf081bae6eeecd36392...  0.0069292687482465   \n00299f4c6497510127af0f53cc0b363a9021ee71a9aa708...  0.0060749355062732   \n0016f5abba737a65efb60e50c9088ea2ae3f5d157f0c003...  0.0098527078090501   \n00039533fe0b61bcf1ec0d1aefe6acb5469ea0f0d1b0ad5...  0.0035685232548245   \n\n                                                                 D_141 D_142  \\\ncustomer_ID                                                                    \n007665af389a671677413ae879122be275b722b68b31509...  0.0083459872105192         \n005c61318923d2addeca91abee3fdf081bae6eeecd36392...  0.0059781332872622         \n00299f4c6497510127af0f53cc0b363a9021ee71a9aa708...  0.0044491580657775         \n0016f5abba737a65efb60e50c9088ea2ae3f5d157f0c003...  0.0038496241255009         \n00039533fe0b61bcf1ec0d1aefe6acb5469ea0f0d1b0ad5...  0.0037947408832131         \n\n                                                                 D_143  \\\ncustomer_ID                                                              \n007665af389a671677413ae879122be275b722b68b31509...  0.0018501148906068   \n005c61318923d2addeca91abee3fdf081bae6eeecd36392...  0.0018814221379248   \n00299f4c6497510127af0f53cc0b363a9021ee71a9aa708...  0.0098450643149009   \n0016f5abba737a65efb60e50c9088ea2ae3f5d157f0c003...  0.0065636652951568   \n00039533fe0b61bcf1ec0d1aefe6acb5469ea0f0d1b0ad5...  0.0027868777248217   \n\n                                                                 D_144  \\\ncustomer_ID                                                              \n007665af389a671677413ae879122be275b722b68b31509...  0.0066290339347847   \n005c61318923d2addeca91abee3fdf081bae6eeecd36392...  0.0046672889312065   \n00299f4c6497510127af0f53cc0b363a9021ee71a9aa708...  0.0085970087944586   \n0016f5abba737a65efb60e50c9088ea2ae3f5d157f0c003...  0.0033254066403486   \n00039533fe0b61bcf1ec0d1aefe6acb5469ea0f0d1b0ad5...  0.0079763608062494   \n\n                                                                 D_145  \ncustomer_ID                                                             \n007665af389a671677413ae879122be275b722b68b31509...  0.0078465629387634  \n005c61318923d2addeca91abee3fdf081bae6eeecd36392...  0.0070179884562044  \n00299f4c6497510127af0f53cc0b363a9021ee71a9aa708...  0.0092702240941923  \n0016f5abba737a65efb60e50c9088ea2ae3f5d157f0c003...  0.0068082857462508  \n00039533fe0b61bcf1ec0d1aefe6acb5469ea0f0d1b0ad5...  0.0039367638765911  \n\n[5 rows x 189 columns]",
      "text/html": "<div>\n<style scoped>\n    .dataframe tbody tr th:only-of-type {\n        vertical-align: middle;\n    }\n\n    .dataframe tbody tr th {\n        vertical-align: top;\n    }\n\n    .dataframe thead th {\n        text-align: right;\n    }\n</style>\n<table border=\"1\" class=\"dataframe\">\n  <thead>\n    <tr style=\"text-align: right;\">\n      <th></th>\n      <th>S_2</th>\n      <th>P_2</th>\n      <th>D_39</th>\n      <th>B_1</th>\n      <th>B_2</th>\n      <th>R_1</th>\n      <th>S_3</th>\n      <th>D_41</th>\n      <th>B_3</th>\n      <th>D_42</th>\n      <th>...</th>\n      <th>D_136</th>\n      <th>D_137</th>\n      <th>D_138</th>\n      <th>D_139</th>\n      <th>D_140</th>\n      <th>D_141</th>\n      <th>D_142</th>\n      <th>D_143</th>\n      <th>D_144</th>\n      <th>D_145</th>\n    </tr>\n    <tr>\n      <th>customer_ID</th>\n      <th></th>\n      <th></th>\n      <th></th>\n      <th></th>\n      <th></th>\n      <th></th>\n      <th></th>\n      <th></th>\n      <th></th>\n      <th></th>\n      <th></th>\n      <th></th>\n      <th></th>\n      <th></th>\n      <th></th>\n      <th></th>\n      <th></th>\n      <th></th>\n      <th></th>\n      <th></th>\n      <th></th>\n    </tr>\n  </thead>\n  <tbody>\n    <tr>\n      <th>007665af389a671677413ae879122be275b722b68b31509a54297c8b9ee611ed</th>\n      <td>2018-03-18</td>\n      <td>-0.0931360288502379</td>\n      <td>0.0096559635642339</td>\n      <td>0.2219300965099985</td>\n      <td>0.0095725512627982</td>\n      <td>0.5082696198042597</td>\n      <td>0.3391963993383449</td>\n      <td>0.5848254108786495</td>\n      <td>0.5164489985106563</td>\n      <td></td>\n      <td>...</td>\n      <td></td>\n      <td></td>\n      <td></td>\n      <td>0.0037031354185205</td>\n      <td>0.0070985912240648</td>\n      <td>0.0083459872105192</td>\n      <td></td>\n      <td>0.0018501148906068</td>\n      <td>0.0066290339347847</td>\n      <td>0.0078465629387634</td>\n    </tr>\n    <tr>\n      <th>005c61318923d2addeca91abee3fdf081bae6eeecd363928c28a6290f6d12e54</th>\n      <td>2018-03-21</td>\n      <td>0.986611120021844</td>\n      <td>0.0020260243002264</td>\n      <td>0.0199641348431316</td>\n      <td>0.9923299450422156</td>\n      <td>0.0094847014394011</td>\n      <td>0.2865961061124253</td>\n      <td>0.0712478349663038</td>\n      <td>0.0023183828881911</td>\n      <td></td>\n      <td>...</td>\n      <td></td>\n      <td></td>\n      <td></td>\n      <td>0.004787786702245</td>\n      <td>0.0069292687482465</td>\n      <td>0.0059781332872622</td>\n      <td></td>\n      <td>0.0018814221379248</td>\n      <td>0.0046672889312065</td>\n      <td>0.0070179884562044</td>\n    </tr>\n    <tr>\n      <th>00299f4c6497510127af0f53cc0b363a9021ee71a9aa708a3869618d34f1790f</th>\n      <td>2018-03-20</td>\n      <td>0.8788295513094944</td>\n      <td>0.0042480849911047</td>\n      <td>0.0015438619927072</td>\n      <td>0.8160318800319813</td>\n      <td>0.0034079581522946</td>\n      <td></td>\n      <td>0.00037508957383798445</td>\n      <td>0.0036707384947362</td>\n      <td></td>\n      <td>...</td>\n      <td></td>\n      <td></td>\n      <td></td>\n      <td>0.0070457126652679</td>\n      <td>0.0060749355062732</td>\n      <td>0.0044491580657775</td>\n      <td></td>\n      <td>0.0098450643149009</td>\n      <td>0.0085970087944586</td>\n      <td>0.0092702240941923</td>\n    </tr>\n    <tr>\n      <th>0016f5abba737a65efb60e50c9088ea2ae3f5d157f0c0030eb488b1de0457cd5</th>\n      <td>2018-03-08</td>\n      <td>0.8901501190764599</td>\n      <td>0.00033120353719177654</td>\n      <td>0.0318246305038781</td>\n      <td>1.007433977239875</td>\n      <td>0.0075870772063152</td>\n      <td>0.088745111479866</td>\n      <td>0.0012646079446888</td>\n      <td>0.0109866874970934</td>\n      <td></td>\n      <td>...</td>\n      <td></td>\n      <td></td>\n      <td></td>\n      <td>0.0084613350156782</td>\n      <td>0.0098527078090501</td>\n      <td>0.0038496241255009</td>\n      <td></td>\n      <td>0.0065636652951568</td>\n      <td>0.0033254066403486</td>\n      <td>0.0068082857462508</td>\n    </tr>\n    <tr>\n      <th>00039533fe0b61bcf1ec0d1aefe6acb5469ea0f0d1b0ad59ae721e5b86db12f1</th>\n      <td>2018-03-25</td>\n      <td>0.234921911857499</td>\n      <td>0.0938749274351392</td>\n      <td>0.6074501062656786</td>\n      <td>0.0331138953308008</td>\n      <td>0.5022181761666668</td>\n      <td>0.1800582882257861</td>\n      <td>0.0047127706558927</td>\n      <td>0.7162907958226181</td>\n      <td></td>\n      <td>...</td>\n      <td></td>\n      <td></td>\n      <td></td>\n      <td>0.008664205660965</td>\n      <td>0.0035685232548245</td>\n      <td>0.0037947408832131</td>\n      <td></td>\n      <td>0.0027868777248217</td>\n      <td>0.0079763608062494</td>\n      <td>0.0039367638765911</td>\n    </tr>\n  </tbody>\n</table>\n<p>5 rows × 189 columns</p>\n</div>"
     },
     "execution_count": 34,
     "metadata": {},
     "output_type": "execute_result"
    }
   ],
   "source": [
    "customers_files = os.listdir(\"data/customers\")\n",
    "\n",
    "customers_aggregates = pd.DataFrame()\n",
    "\n",
    "for customers_file in tqdm(customers_files):\n",
    "    with jsonlines.open(\"data/customers/\" + customers_file) as file:\n",
    "        customer_data = pd.DataFrame(data=file)\n",
    "\n",
    "        customers_aggregates = pd.concat([customers_aggregates, customer_data.groupby(\"customer_ID\").last()])\n",
    "\n",
    "customers_aggregates.head()"
   ],
   "metadata": {
    "collapsed": false,
    "pycharm": {
     "name": "#%%\n"
    }
   }
  },
  {
   "cell_type": "code",
   "execution_count": 19,
   "outputs": [
    {
     "data": {
      "text/plain": "0it [00:00, ?it/s]",
      "application/vnd.jupyter.widget-view+json": {
       "version_major": 2,
       "version_minor": 0,
       "model_id": "a28dca06b9e946118160d352d4e03f86"
      }
     },
     "metadata": {},
     "output_type": "display_data"
    }
   ],
   "source": [
    "train_csv = \"data/sample_10k_train_data.csv\"\n",
    "\n",
    "customers_values = defaultdict(dict)\n",
    "\n",
    "with open(train_csv) as csvfile:\n",
    "    for row in tqdm(csv.DictReader(csvfile)):\n",
    "        for key, value in row.items():\n",
    "            if value == \"\":\n",
    "                continue\n",
    "            customers_values[row[\"customer_ID\"]][key] = value"
   ],
   "metadata": {
    "collapsed": false,
    "pycharm": {
     "name": "#%%\n"
    }
   }
  },
  {
   "cell_type": "code",
   "execution_count": 23,
   "outputs": [
    {
     "data": {
      "text/plain": "                                         customer_ID         S_2  \\\n0  0000099d6bd597052cdcda90ffabf56573fe9d7c79be5f...  2018-03-13   \n1  00000fd6641609c6ece5454664794f0340ad84dddce9a2...  2018-03-25   \n2  00001b22f846c82c51f6e3958ccd81970162bae8b007e8...  2018-03-12   \n3  000041bdba6ecadd89a52d11886e8eaaec9325906c9723...  2018-03-29   \n4  00007889e4fcd2614b6cbe7f8f3d2e5c728eca32d9eb8a...  2018-03-30   \n\n                  P_2                D_39                 B_1  \\\n0    0.93474485274303  0.0091186348964069  0.0093824371915067   \n1   0.880519102367852  0.1781258210711713  0.0346841983911652   \n2   0.880874511016508  0.0097035812014006  0.0042836690695493   \n3  0.6217762335659567  0.0010826393646893  0.0125642033670932   \n4  0.8718998416663153  0.0055726602971775  0.0076793239091691   \n\n                  B_2                 R_1                 S_3  \\\n0  1.0076473546267253  0.0061037539142857  0.1350212522743517   \n1  1.0040276302075464  0.0069111545700743   0.165509470896496   \n2  0.8126495069544514  0.0064499542880345                 NaN   \n3   1.006183076613845  0.0078287783270121    0.28776552228265   \n4  0.8157458408671028   0.001247312772095  0.1764033437797794   \n\n                     D_41                 B_3  ... D_136 D_137 D_138 B_42  \\\n0      0.0016042760978208  0.0071743084020712  ...   NaN   NaN   NaN  NaN   \n1      0.0055519705691147  0.0050681255002537  ...   NaN   NaN   NaN  NaN   \n2      0.0037958644727287  0.0071956647127464  ...   NaN   NaN   NaN  NaN   \n3       0.004531611952273  0.0099374611636178  ...   NaN   NaN   NaN  NaN   \n4  0.00023060545834009292  0.0055280799832563  ...   NaN   NaN   NaN  NaN   \n\n  D_73 D_88 D_110 D_111 B_39 D_87  \n0  NaN  NaN   NaN   NaN  NaN  NaN  \n1  NaN  NaN   NaN   NaN  NaN  NaN  \n2  NaN  NaN   NaN   NaN  NaN  NaN  \n3  NaN  NaN   NaN   NaN  NaN  NaN  \n4  NaN  NaN   NaN   NaN  NaN  NaN  \n\n[5 rows x 190 columns]",
      "text/html": "<div>\n<style scoped>\n    .dataframe tbody tr th:only-of-type {\n        vertical-align: middle;\n    }\n\n    .dataframe tbody tr th {\n        vertical-align: top;\n    }\n\n    .dataframe thead th {\n        text-align: right;\n    }\n</style>\n<table border=\"1\" class=\"dataframe\">\n  <thead>\n    <tr style=\"text-align: right;\">\n      <th></th>\n      <th>customer_ID</th>\n      <th>S_2</th>\n      <th>P_2</th>\n      <th>D_39</th>\n      <th>B_1</th>\n      <th>B_2</th>\n      <th>R_1</th>\n      <th>S_3</th>\n      <th>D_41</th>\n      <th>B_3</th>\n      <th>...</th>\n      <th>D_136</th>\n      <th>D_137</th>\n      <th>D_138</th>\n      <th>B_42</th>\n      <th>D_73</th>\n      <th>D_88</th>\n      <th>D_110</th>\n      <th>D_111</th>\n      <th>B_39</th>\n      <th>D_87</th>\n    </tr>\n  </thead>\n  <tbody>\n    <tr>\n      <th>0</th>\n      <td>0000099d6bd597052cdcda90ffabf56573fe9d7c79be5f...</td>\n      <td>2018-03-13</td>\n      <td>0.93474485274303</td>\n      <td>0.0091186348964069</td>\n      <td>0.0093824371915067</td>\n      <td>1.0076473546267253</td>\n      <td>0.0061037539142857</td>\n      <td>0.1350212522743517</td>\n      <td>0.0016042760978208</td>\n      <td>0.0071743084020712</td>\n      <td>...</td>\n      <td>NaN</td>\n      <td>NaN</td>\n      <td>NaN</td>\n      <td>NaN</td>\n      <td>NaN</td>\n      <td>NaN</td>\n      <td>NaN</td>\n      <td>NaN</td>\n      <td>NaN</td>\n      <td>NaN</td>\n    </tr>\n    <tr>\n      <th>1</th>\n      <td>00000fd6641609c6ece5454664794f0340ad84dddce9a2...</td>\n      <td>2018-03-25</td>\n      <td>0.880519102367852</td>\n      <td>0.1781258210711713</td>\n      <td>0.0346841983911652</td>\n      <td>1.0040276302075464</td>\n      <td>0.0069111545700743</td>\n      <td>0.165509470896496</td>\n      <td>0.0055519705691147</td>\n      <td>0.0050681255002537</td>\n      <td>...</td>\n      <td>NaN</td>\n      <td>NaN</td>\n      <td>NaN</td>\n      <td>NaN</td>\n      <td>NaN</td>\n      <td>NaN</td>\n      <td>NaN</td>\n      <td>NaN</td>\n      <td>NaN</td>\n      <td>NaN</td>\n    </tr>\n    <tr>\n      <th>2</th>\n      <td>00001b22f846c82c51f6e3958ccd81970162bae8b007e8...</td>\n      <td>2018-03-12</td>\n      <td>0.880874511016508</td>\n      <td>0.0097035812014006</td>\n      <td>0.0042836690695493</td>\n      <td>0.8126495069544514</td>\n      <td>0.0064499542880345</td>\n      <td>NaN</td>\n      <td>0.0037958644727287</td>\n      <td>0.0071956647127464</td>\n      <td>...</td>\n      <td>NaN</td>\n      <td>NaN</td>\n      <td>NaN</td>\n      <td>NaN</td>\n      <td>NaN</td>\n      <td>NaN</td>\n      <td>NaN</td>\n      <td>NaN</td>\n      <td>NaN</td>\n      <td>NaN</td>\n    </tr>\n    <tr>\n      <th>3</th>\n      <td>000041bdba6ecadd89a52d11886e8eaaec9325906c9723...</td>\n      <td>2018-03-29</td>\n      <td>0.6217762335659567</td>\n      <td>0.0010826393646893</td>\n      <td>0.0125642033670932</td>\n      <td>1.006183076613845</td>\n      <td>0.0078287783270121</td>\n      <td>0.28776552228265</td>\n      <td>0.004531611952273</td>\n      <td>0.0099374611636178</td>\n      <td>...</td>\n      <td>NaN</td>\n      <td>NaN</td>\n      <td>NaN</td>\n      <td>NaN</td>\n      <td>NaN</td>\n      <td>NaN</td>\n      <td>NaN</td>\n      <td>NaN</td>\n      <td>NaN</td>\n      <td>NaN</td>\n    </tr>\n    <tr>\n      <th>4</th>\n      <td>00007889e4fcd2614b6cbe7f8f3d2e5c728eca32d9eb8a...</td>\n      <td>2018-03-30</td>\n      <td>0.8718998416663153</td>\n      <td>0.0055726602971775</td>\n      <td>0.0076793239091691</td>\n      <td>0.8157458408671028</td>\n      <td>0.001247312772095</td>\n      <td>0.1764033437797794</td>\n      <td>0.00023060545834009292</td>\n      <td>0.0055280799832563</td>\n      <td>...</td>\n      <td>NaN</td>\n      <td>NaN</td>\n      <td>NaN</td>\n      <td>NaN</td>\n      <td>NaN</td>\n      <td>NaN</td>\n      <td>NaN</td>\n      <td>NaN</td>\n      <td>NaN</td>\n      <td>NaN</td>\n    </tr>\n  </tbody>\n</table>\n<p>5 rows × 190 columns</p>\n</div>"
     },
     "execution_count": 23,
     "metadata": {},
     "output_type": "execute_result"
    }
   ],
   "source": [
    "df = pd.DataFrame(data=customers_values.values())\n",
    "df.head()"
   ],
   "metadata": {
    "collapsed": false,
    "pycharm": {
     "name": "#%%\n"
    }
   }
  },
  {
   "cell_type": "code",
   "execution_count": 15,
   "outputs": [
    {
     "name": "stdout",
     "output_type": "stream",
     "text": [
      "[]\n"
     ]
    },
    {
     "data": {
      "text/plain": "defaultdict(list, {'blah': [1, 2], 'hhh': []})"
     },
     "execution_count": 15,
     "metadata": {},
     "output_type": "execute_result"
    }
   ],
   "source": [
    "dd = defaultdict(list)\n",
    "\n",
    "dd[\"blah\"].append(1)\n",
    "dd[\"blah\"].append(2)\n",
    "abc = dd[\"hhh\"]\n",
    "print(abc)\n",
    "dd"
   ],
   "metadata": {
    "collapsed": false,
    "pycharm": {
     "name": "#%%\n"
    }
   }
  },
  {
   "cell_type": "code",
   "execution_count": 20,
   "outputs": [],
   "source": [],
   "metadata": {
    "collapsed": false,
    "pycharm": {
     "name": "#%%\n"
    }
   }
  }
 ],
 "metadata": {
  "kernelspec": {
   "display_name": "Python 3",
   "language": "python",
   "name": "python3"
  },
  "language_info": {
   "codemirror_mode": {
    "name": "ipython",
    "version": 2
   },
   "file_extension": ".py",
   "mimetype": "text/x-python",
   "name": "python",
   "nbconvert_exporter": "python",
   "pygments_lexer": "ipython2",
   "version": "2.7.6"
  }
 },
 "nbformat": 4,
 "nbformat_minor": 0
}